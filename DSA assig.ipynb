{
 "cells": [
  {
   "cell_type": "markdown",
   "id": "bd2a1cda-4e2b-4d88-b71c-61e37643f84a",
   "metadata": {},
   "source": [
    "1. Given an array, check if it contains any duplicates or not.\n",
    "arr = [1, 2, 4, 2, 5, 9]\n",
    "Output = True"
   ]
  },
  {
   "cell_type": "markdown",
   "id": "24c9421b-be72-4108-baef-35b4d0332066",
   "metadata": {},
   "source": [
    "Ans."
   ]
  },
  {
   "cell_type": "code",
   "execution_count": 12,
   "id": "ff021cac-1c02-44ae-965b-0c2459321eb4",
   "metadata": {},
   "outputs": [
    {
     "name": "stdout",
     "output_type": "stream",
     "text": [
      "True\n"
     ]
    }
   ],
   "source": [
    "#check duplicate\n",
    "# time complexity:O(n)\n",
    "# space complexity:O(1)\n",
    "def check_duplicate(arr):\n",
    "    end=set()\n",
    "    for element in arr:\n",
    "        if element in end :\n",
    "            return True\n",
    "        end.add(element)\n",
    "        \n",
    "    return False\n",
    "\n",
    "#driver code\n",
    "arr=[1,2,4,2,5,9]\n",
    "result=check_duplicate(arr)\n",
    "print(result)"
   ]
  },
  {
   "cell_type": "code",
   "execution_count": null,
   "id": "68c6d86a-a607-437b-a2bc-c9277cd1b5de",
   "metadata": {},
   "outputs": [],
   "source": []
  },
  {
   "cell_type": "markdown",
   "id": "fc1652df-85c2-46b3-9b62-57212d6e64fb",
   "metadata": {},
   "source": [
    "2. Given an array and an integer k, rotate the array to the right by k steps.\n",
    "arr = [1, 2, 3, 4, 5, 6, 7] k = 3\n",
    "Output = [5, 6, 7, 1, 2, 3, 4]"
   ]
  },
  {
   "cell_type": "markdown",
   "id": "e707ab48-1522-488e-8647-02181f1a6d66",
   "metadata": {},
   "source": [
    "Ans."
   ]
  },
  {
   "cell_type": "code",
   "execution_count": 18,
   "id": "b039712f-2258-469c-a306-f0f32941bc9f",
   "metadata": {},
   "outputs": [
    {
     "name": "stdout",
     "output_type": "stream",
     "text": [
      "[5, 6, 7, 1, 2, 3, 4]\n"
     ]
    }
   ],
   "source": [
    "#Rotate_array\n",
    "# time complexity:O(n)\n",
    "#space complexity:O(1)\n",
    "def rotate_arr(arr,k):\n",
    "    n=len(arr)\n",
    "    k=k%n\n",
    "    arr.reverse()\n",
    "    arr[:k] = reversed(arr[:k])  # Reverse the first k elements\n",
    "    arr[k:] = reversed(arr[k:])  # Reverse the remaining elements\n",
    "    return arr\n",
    "\n",
    "# driver code\n",
    "arr=[1,2,3,4,5,6,7]\n",
    "k=3\n",
    "output = rotate_arr(arr, k)\n",
    "print(output)"
   ]
  },
  {
   "cell_type": "code",
   "execution_count": null,
   "id": "e35375f0-013e-4764-a04b-c644e80b6b15",
   "metadata": {},
   "outputs": [],
   "source": []
  },
  {
   "cell_type": "markdown",
   "id": "6c052069-0c4f-41d6-a70e-736671b48ea8",
   "metadata": {},
   "source": [
    "3. Reverse the given array in-place, means without using any extra data structure.\n",
    "arr = [2, 4, 5, 7, 9, 12]\n",
    "Output = [12, 9, 7, 5, 4, 2]"
   ]
  },
  {
   "cell_type": "markdown",
   "id": "169c1822-f5bb-4e02-b046-481557959525",
   "metadata": {},
   "source": [
    "Ans."
   ]
  },
  {
   "cell_type": "code",
   "execution_count": 19,
   "id": "6755ad90-b7e2-46c0-a348-46f6c3282da3",
   "metadata": {},
   "outputs": [
    {
     "name": "stdout",
     "output_type": "stream",
     "text": [
      "[12, 9, 7, 5, 4, 2]\n"
     ]
    }
   ],
   "source": [
    "#array_place\n",
    "# time complexity:O(n)\n",
    "# space complexity:O(1)\n",
    "def reverse_array_in_place(arr):\n",
    "    start, end = 0, len(arr) - 1\n",
    "\n",
    "    while start < end:\n",
    "        # Swap elements at start and end indices\n",
    "        arr[start], arr[end] = arr[end], arr[start]\n",
    "        start += 1\n",
    "        end -= 1\n",
    "\n",
    "#driver code\n",
    "arr = [2, 4, 5, 7, 9, 12]\n",
    "reverse_array_in_place(arr)\n",
    "print(arr)\n"
   ]
  },
  {
   "cell_type": "code",
   "execution_count": null,
   "id": "6a30a3b2-64a2-46f1-bd14-f8acd87da102",
   "metadata": {},
   "outputs": [],
   "source": []
  },
  {
   "cell_type": "markdown",
   "id": "4a02bda6-ebcc-4f8e-a0ff-7ed167fdab2d",
   "metadata": {},
   "source": [
    "4. Given an array of integers, find the maximum element in an array\n",
    "arr = [10, 5, 20, 8, 15]\n",
    "Output = 204"
   ]
  },
  {
   "cell_type": "markdown",
   "id": "be8be3ae-93f5-46ec-ab98-5ef56a056aa2",
   "metadata": {},
   "source": [
    "Ans."
   ]
  },
  {
   "cell_type": "code",
   "execution_count": 10,
   "id": "073aaace-d929-402a-af93-bf4fec79b1a9",
   "metadata": {},
   "outputs": [
    {
     "name": "stdout",
     "output_type": "stream",
     "text": [
      "20\n"
     ]
    }
   ],
   "source": [
    "#maximum_element\n",
    "# time complexity:O(n)\n",
    "# space complexity:O(1)\n",
    "def find_max_element(arr):\n",
    "    if not arr:\n",
    "        return None  # Handle empty array case\n",
    "    max_element = arr[0]\n",
    "    for element in arr:\n",
    "        if element > max_element:\n",
    "            max_element = element\n",
    "    return max_element\n",
    "\n",
    "arr = [10, 5, 20, 8, 15]\n",
    "output = find_max_element(arr)\n",
    "print(output)\n"
   ]
  },
  {
   "cell_type": "code",
   "execution_count": null,
   "id": "6105d568-500b-4a4d-9bc6-d570bff43e07",
   "metadata": {},
   "outputs": [],
   "source": []
  },
  {
   "cell_type": "markdown",
   "id": "195315c7-97de-4547-9867-93414853ab2e",
   "metadata": {},
   "source": [
    "5. Given a sorted array, remove the duplicate element without using any extra data structure.\n",
    "arr = [1, 1, 2, 2, 2, 3, 3, 4, 4, 4, 5, 5]\n",
    "Output = [1, 2, 3, 4, 5]"
   ]
  },
  {
   "cell_type": "markdown",
   "id": "818793e5-0a62-48d3-89de-a19073827b06",
   "metadata": {},
   "source": [
    "Ans."
   ]
  },
  {
   "cell_type": "code",
   "execution_count": 11,
   "id": "63f661e8-72ef-43f4-bbf0-d8151552d5df",
   "metadata": {},
   "outputs": [
    {
     "name": "stdout",
     "output_type": "stream",
     "text": [
      "[1, 2, 3, 4, 5]\n"
     ]
    }
   ],
   "source": [
    "def remove_duplicates_in_place(arr):\n",
    "    if not arr:\n",
    "        return 0  # Handle empty array case\n",
    "\n",
    "    # Initialize the index for the unique elements\n",
    "    unique_index = 1\n",
    "\n",
    "    # Iterate through the array starting from the second element\n",
    "    for i in range(1, len(arr)):\n",
    "        # If the current element is different from the previous unique element\n",
    "        if arr[i] != arr[i - 1]:\n",
    "            # Update the unique element and shift it to the front\n",
    "            arr[unique_index] = arr[i]\n",
    "            unique_index += 1\n",
    "\n",
    "    # Resize the array to keep only the unique elements\n",
    "    arr[:] = arr[:unique_index]\n",
    "\n",
    "# Example usage\n",
    "arr = [1, 1, 2, 2, 2, 3, 3, 4, 4, 4, 5, 5]\n",
    "remove_duplicates_in_place(arr)\n",
    "print(arr)\n"
   ]
  },
  {
   "cell_type": "code",
   "execution_count": null,
   "id": "2f8bb24e-37df-4805-9bbe-655396935f9a",
   "metadata": {},
   "outputs": [],
   "source": []
  }
 ],
 "metadata": {
  "kernelspec": {
   "display_name": "Python 3 (ipykernel)",
   "language": "python",
   "name": "python3"
  },
  "language_info": {
   "codemirror_mode": {
    "name": "ipython",
    "version": 3
   },
   "file_extension": ".py",
   "mimetype": "text/x-python",
   "name": "python",
   "nbconvert_exporter": "python",
   "pygments_lexer": "ipython3",
   "version": "3.10.8"
  }
 },
 "nbformat": 4,
 "nbformat_minor": 5
}
